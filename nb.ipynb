{
 "cells": [
  {
   "cell_type": "code",
   "execution_count": 11,
   "id": "90777030",
   "metadata": {},
   "outputs": [],
   "source": [
    "# Install the required packages\n",
    "! pip install -q langchain langchain-ibm pydantic python-dotenv rich"
   ]
  },
  {
   "cell_type": "code",
   "execution_count": 12,
   "id": "876f134e-7d95-4e18-b2d1-4fa731504143",
   "metadata": {},
   "outputs": [
    {
     "data": {
      "text/plain": [
       "True"
      ]
     },
     "execution_count": 12,
     "metadata": {},
     "output_type": "execute_result"
    }
   ],
   "source": [
    "from langchain_ibm import ChatWatsonx\n",
    "from dotenv import load_dotenv\n",
    "from pydantic import BaseModel\n",
    "from rich import print\n",
    "import os\n",
    "# Load environment variables from .env file\n",
    "# Ensure you have a .env file with the following variables:\n",
    "# WATSONX_APIKEY, WATSONX_PROJECT_ID, WATSONX_URL\n",
    "load_dotenv()"
   ]
  },
  {
   "cell_type": "code",
   "execution_count": 13,
   "id": "1d6a4d34",
   "metadata": {},
   "outputs": [],
   "source": [
    "invoice_data = \"\"\"\n",
    "ACME Ltd. – Tax ID 76,543,210-K\n",
    "123 Main Street, Anytown | Phone: +1 (555) 123-4567\n",
    "Contact: billing@acme.com\n",
    "\n",
    "ELECTRONIC INVOICE\n",
    "Invoice No.: 2025-0042\n",
    "Issue Date: May 15, 2025\n",
    "Purchase Order: PO-984-2025\n",
    "\n",
    "DETAILS\n",
    "\t•\t10 × M6 × 30 mm screws … USD 0.15 each … USD 1.50\n",
    "\t•\t5 × 4 mm Allen keys … USD 1.20 each … USD 6.00\n",
    "\t•\t3 × 200 ml multi-purpose lubricant … USD 3.50 each … USD 10.50\n",
    "\n",
    "Subtotal: USD 18.00\n",
    "VAT (19%): USD 3.42\n",
    "Total: USD 21.42\n",
    "\n",
    "Currency: USD\n",
    "Due Date: June 10, 2025\n",
    "Payment Method: Bank transfer (30 days)\n",
    "Account No.: 012-34567-89 | International Bank\n",
    "\n",
    "Notes:\n",
    "Please deliver to the central warehouse by May 20, 2025.\n",
    "\"\"\"\n",
    "\n",
    "prompt = f\"\"\"\n",
    "You are an intelligent agent responsible for extracting information from invoices.\n",
    "Read the invoice and look for the requested information.\n",
    "The invoice may contain one or more products; make sure to extract the information for each one in the order in which they appear.\n",
    "The invoice is as follows:\n",
    "{invoice_data}\n",
    "\"\"\""
   ]
  },
  {
   "cell_type": "code",
   "execution_count": null,
   "id": "b04bb6ed",
   "metadata": {},
   "outputs": [],
   "source": [
    "class InvoiceItem(BaseModel):\n",
    "    name: str\n",
    "    quantity: int\n",
    "    unit_price: float\n",
    "\n",
    "class Invoice(BaseModel):\n",
    "    purchase_order: str\n",
    "    invoice_date: str\n",
    "    subtotal: float\n",
    "    tax: float\n",
    "    total: float\n",
    "    items: list[InvoiceItem]\n",
    "    "
   ]
  },
  {
   "cell_type": "code",
   "execution_count": null,
   "id": "fa03fe4f",
   "metadata": {},
   "outputs": [],
   "source": [
    "llm = ChatWatsonx(\n",
    "    model_id=\"ibm/granite-3-3-8b-instruct\",\n",
    "    project_id=os.getenv(\"WATSONX_PROJECT_ID\"),\n",
    ")"
   ]
  },
  {
   "cell_type": "code",
   "execution_count": 15,
   "id": "2304b3d0",
   "metadata": {},
   "outputs": [
    {
     "data": {
      "text/html": [
       "<pre style=\"white-space:pre;overflow-x:auto;line-height:normal;font-family:Menlo,'DejaVu Sans Mono',consolas,'Courier New',monospace\"><span style=\"color: #800080; text-decoration-color: #800080; font-weight: bold\">Invoice</span><span style=\"font-weight: bold\">(</span>\n",
       "    <span style=\"color: #808000; text-decoration-color: #808000\">purchase_order</span>=<span style=\"color: #008000; text-decoration-color: #008000\">'PO-984-2025'</span>,\n",
       "    <span style=\"color: #808000; text-decoration-color: #808000\">invoice_date</span>=<span style=\"color: #008000; text-decoration-color: #008000\">'May 15, 2025'</span>,\n",
       "    <span style=\"color: #808000; text-decoration-color: #808000\">subtotal</span>=<span style=\"color: #008080; text-decoration-color: #008080; font-weight: bold\">18.0</span>,\n",
       "    <span style=\"color: #808000; text-decoration-color: #808000\">tax</span>=<span style=\"color: #008080; text-decoration-color: #008080; font-weight: bold\">3.42</span>,\n",
       "    <span style=\"color: #808000; text-decoration-color: #808000\">total</span>=<span style=\"color: #008080; text-decoration-color: #008080; font-weight: bold\">21.42</span>,\n",
       "    <span style=\"color: #808000; text-decoration-color: #808000\">items</span>=<span style=\"font-weight: bold\">[</span>\n",
       "        <span style=\"color: #800080; text-decoration-color: #800080; font-weight: bold\">InvoiceItem</span><span style=\"font-weight: bold\">(</span><span style=\"color: #808000; text-decoration-color: #808000\">name</span>=<span style=\"color: #008000; text-decoration-color: #008000\">'M6 × 30 mm screws'</span>, <span style=\"color: #808000; text-decoration-color: #808000\">quantity</span>=<span style=\"color: #008080; text-decoration-color: #008080; font-weight: bold\">10</span>, <span style=\"color: #808000; text-decoration-color: #808000\">unit_price</span>=<span style=\"color: #008080; text-decoration-color: #008080; font-weight: bold\">0.15</span><span style=\"font-weight: bold\">)</span>,\n",
       "        <span style=\"color: #800080; text-decoration-color: #800080; font-weight: bold\">InvoiceItem</span><span style=\"font-weight: bold\">(</span><span style=\"color: #808000; text-decoration-color: #808000\">name</span>=<span style=\"color: #008000; text-decoration-color: #008000\">'4 mm Allen keys'</span>, <span style=\"color: #808000; text-decoration-color: #808000\">quantity</span>=<span style=\"color: #008080; text-decoration-color: #008080; font-weight: bold\">5</span>, <span style=\"color: #808000; text-decoration-color: #808000\">unit_price</span>=<span style=\"color: #008080; text-decoration-color: #008080; font-weight: bold\">1.2</span><span style=\"font-weight: bold\">)</span>,\n",
       "        <span style=\"color: #800080; text-decoration-color: #800080; font-weight: bold\">InvoiceItem</span><span style=\"font-weight: bold\">(</span><span style=\"color: #808000; text-decoration-color: #808000\">name</span>=<span style=\"color: #008000; text-decoration-color: #008000\">'200 ml multi-purpose lubricant'</span>, <span style=\"color: #808000; text-decoration-color: #808000\">quantity</span>=<span style=\"color: #008080; text-decoration-color: #008080; font-weight: bold\">3</span>, <span style=\"color: #808000; text-decoration-color: #808000\">unit_price</span>=<span style=\"color: #008080; text-decoration-color: #008080; font-weight: bold\">3.5</span><span style=\"font-weight: bold\">)</span>\n",
       "    <span style=\"font-weight: bold\">]</span>\n",
       "<span style=\"font-weight: bold\">)</span>\n",
       "</pre>\n"
      ],
      "text/plain": [
       "\u001b[1;35mInvoice\u001b[0m\u001b[1m(\u001b[0m\n",
       "    \u001b[33mpurchase_order\u001b[0m=\u001b[32m'PO-984-2025'\u001b[0m,\n",
       "    \u001b[33minvoice_date\u001b[0m=\u001b[32m'May 15, 2025'\u001b[0m,\n",
       "    \u001b[33msubtotal\u001b[0m=\u001b[1;36m18\u001b[0m\u001b[1;36m.0\u001b[0m,\n",
       "    \u001b[33mtax\u001b[0m=\u001b[1;36m3\u001b[0m\u001b[1;36m.42\u001b[0m,\n",
       "    \u001b[33mtotal\u001b[0m=\u001b[1;36m21\u001b[0m\u001b[1;36m.42\u001b[0m,\n",
       "    \u001b[33mitems\u001b[0m=\u001b[1m[\u001b[0m\n",
       "        \u001b[1;35mInvoiceItem\u001b[0m\u001b[1m(\u001b[0m\u001b[33mname\u001b[0m=\u001b[32m'M6 × 30 mm screws'\u001b[0m, \u001b[33mquantity\u001b[0m=\u001b[1;36m10\u001b[0m, \u001b[33munit_price\u001b[0m=\u001b[1;36m0\u001b[0m\u001b[1;36m.15\u001b[0m\u001b[1m)\u001b[0m,\n",
       "        \u001b[1;35mInvoiceItem\u001b[0m\u001b[1m(\u001b[0m\u001b[33mname\u001b[0m=\u001b[32m'4 mm Allen keys'\u001b[0m, \u001b[33mquantity\u001b[0m=\u001b[1;36m5\u001b[0m, \u001b[33munit_price\u001b[0m=\u001b[1;36m1\u001b[0m\u001b[1;36m.2\u001b[0m\u001b[1m)\u001b[0m,\n",
       "        \u001b[1;35mInvoiceItem\u001b[0m\u001b[1m(\u001b[0m\u001b[33mname\u001b[0m=\u001b[32m'200 ml multi-purpose lubricant'\u001b[0m, \u001b[33mquantity\u001b[0m=\u001b[1;36m3\u001b[0m, \u001b[33munit_price\u001b[0m=\u001b[1;36m3\u001b[0m\u001b[1;36m.5\u001b[0m\u001b[1m)\u001b[0m\n",
       "    \u001b[1m]\u001b[0m\n",
       "\u001b[1m)\u001b[0m\n"
      ]
     },
     "metadata": {},
     "output_type": "display_data"
    }
   ],
   "source": [
    "result = llm.with_structured_output(Invoice).invoke(prompt)\n",
    "print(result)"
   ]
  }
 ],
 "metadata": {
  "kernelspec": {
   "display_name": ".venv",
   "language": "python",
   "name": "python3"
  },
  "language_info": {
   "codemirror_mode": {
    "name": "ipython",
    "version": 3
   },
   "file_extension": ".py",
   "mimetype": "text/x-python",
   "name": "python",
   "nbconvert_exporter": "python",
   "pygments_lexer": "ipython3",
   "version": "3.13.1"
  }
 },
 "nbformat": 4,
 "nbformat_minor": 5
}
